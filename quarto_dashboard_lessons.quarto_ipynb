{
  "cells": [
    {
      "cell_type": "markdown",
      "metadata": {},
      "source": [
        "---\n",
        "title: \"Gapminder 2007\"\n",
        "format: dashboard\n",
        "theme: superhero\n",
        "---"
      ],
      "id": "b34af1ae"
    },
    {
      "cell_type": "code",
      "metadata": {},
      "source": [
        "import plotly.express as px\n",
        "p = px.line(y=[1,2,3])"
      ],
      "id": "6f7d7046",
      "execution_count": null,
      "outputs": []
    },
    {
      "cell_type": "markdown",
      "metadata": {},
      "source": [
        "# Layouts\n",
        "\n",
        "## Row {height=\"30%\"}\n",
        "\n",
        "### Column {width=\"30%\"}\n"
      ],
      "id": "b281bf33"
    },
    {
      "cell_type": "code",
      "metadata": {},
      "source": [
        "p"
      ],
      "id": "123de4e4",
      "execution_count": null,
      "outputs": []
    },
    {
      "cell_type": "markdown",
      "metadata": {},
      "source": [
        "### Column {width=\"30%\"}\n"
      ],
      "id": "6ba2b42b"
    },
    {
      "cell_type": "code",
      "metadata": {},
      "source": [
        "p"
      ],
      "id": "69d547f7",
      "execution_count": null,
      "outputs": []
    },
    {
      "cell_type": "markdown",
      "metadata": {},
      "source": [
        "### Column {width=\"30%\"}\n"
      ],
      "id": "588cb40d"
    },
    {
      "cell_type": "code",
      "metadata": {},
      "source": [
        "p"
      ],
      "id": "20f8751e",
      "execution_count": null,
      "outputs": []
    },
    {
      "cell_type": "markdown",
      "metadata": {},
      "source": [
        "## Row {height=\"70%\"}\n"
      ],
      "id": "e22d0599"
    },
    {
      "cell_type": "code",
      "metadata": {},
      "source": [
        "p"
      ],
      "id": "d0950996",
      "execution_count": null,
      "outputs": []
    },
    {
      "cell_type": "markdown",
      "metadata": {},
      "source": [
        "# Tabsets\n",
        "\n",
        "## Row {height=\"30%\"}\n",
        "\n",
        "### Column {.tabset width=\"20%\"}\n",
        "\n",
        "#### Tab 1\n"
      ],
      "id": "cde62686"
    },
    {
      "cell_type": "code",
      "metadata": {},
      "source": [
        "p"
      ],
      "id": "1a41f461",
      "execution_count": null,
      "outputs": []
    },
    {
      "cell_type": "markdown",
      "metadata": {},
      "source": [
        "#### Tab 2\n",
        "\n",
        "### Column {width=\"80%\"}\n"
      ],
      "id": "770f0476"
    },
    {
      "cell_type": "code",
      "metadata": {},
      "source": [
        "p"
      ],
      "id": "d570d377",
      "execution_count": null,
      "outputs": []
    },
    {
      "cell_type": "markdown",
      "metadata": {},
      "source": [
        "## Row {.tabset height=\"70%\"}\n",
        "\n",
        "### Tab 1\n"
      ],
      "id": "2e02a3ed"
    },
    {
      "cell_type": "code",
      "metadata": {},
      "source": [
        "p"
      ],
      "id": "3776377f",
      "execution_count": null,
      "outputs": []
    },
    {
      "cell_type": "markdown",
      "metadata": {},
      "source": [
        "### Tab 2 \n",
        "\n",
        "Hello world!\n",
        "\n",
        "# Value Boxes\n"
      ],
      "id": "066321d8"
    },
    {
      "cell_type": "code",
      "metadata": {},
      "source": [
        "tips = px.data.tips()\n",
        "num_columns = tips.shape[1]\n",
        "num_rows = tips.shape[0]"
      ],
      "id": "7032db3c",
      "execution_count": null,
      "outputs": []
    },
    {
      "cell_type": "markdown",
      "metadata": {},
      "source": [
        "## {height=\"20%\"}\n",
        "\n",
        "::: {.valuebox title=\"Big Number\" color=\"primary\" icon=\"heart\"}\n",
        "`{python} num_columns`\n",
        "\n",
        "Few columns\n",
        ":::\n",
        "::: {.valuebox title=\"Big Number\" color=\"secondary\" icon=\"arrow-down\"}\n",
        "`{python} num_rows`\n",
        "\n",
        "Many rows\n",
        "\n",
        ":::\n",
        "::: {.valuebox title=\"Big Number\" color=\"success\" icon=\"bar-chart\"}\n",
        "3\n",
        ":::\n",
        "\n",
        "\n",
        "##\n"
      ],
      "id": "250305ce"
    },
    {
      "cell_type": "code",
      "metadata": {},
      "source": [
        "p"
      ],
      "id": "f8509c47",
      "execution_count": null,
      "outputs": []
    }
  ],
  "metadata": {
    "kernelspec": {
      "display_name": "Python 3",
      "language": "python",
      "name": "python3"
    }
  },
  "nbformat": 4,
  "nbformat_minor": 5
}